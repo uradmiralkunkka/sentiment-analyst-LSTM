{
 "cells": [
  {
   "cell_type": "code",
   "execution_count": 4,
   "id": "1c2ea2a5",
   "metadata": {},
   "outputs": [
    {
     "name": "stdout",
     "output_type": "stream",
     "text": [
      "Note: you may need to restart the kernel to use updated packages.\n"
     ]
    }
   ],
   "source": [
    "pip install -q PySastrawi"
   ]
  },
  {
   "cell_type": "code",
   "execution_count": 5,
   "id": "6ffa3c59",
   "metadata": {},
   "outputs": [
    {
     "name": "stderr",
     "output_type": "stream",
     "text": [
      "[nltk_data] Downloading package stopwords to\n",
      "[nltk_data]     C:\\Users\\ASUS\\AppData\\Roaming\\nltk_data...\n",
      "[nltk_data]   Package stopwords is already up-to-date!\n",
      "[nltk_data] Downloading package punkt to\n",
      "[nltk_data]     C:\\Users\\ASUS\\AppData\\Roaming\\nltk_data...\n",
      "[nltk_data]   Package punkt is already up-to-date!\n"
     ]
    }
   ],
   "source": [
    "import re\n",
    "import string\n",
    "\n",
    "import numpy as np \n",
    "import pandas as pd\n",
    "import matplotlib.pyplot as plt\n",
    "import seaborn as sns\n",
    "from keras.preprocessing.text import Tokenizer\n",
    "from tensorflow.keras.preprocessing.sequence import pad_sequences\n",
    "from keras.models import Sequential\n",
    "from keras.layers import Dense, Embedding, LSTM, SpatialDropout1D\n",
    "from sklearn.model_selection import train_test_split\n",
    "from keras.utils.np_utils import to_categorical\n",
    "from keras.callbacks import EarlyStopping\n",
    "from keras.layers import Dropout\n",
    "\n",
    "from nltk.corpus import stopwords\n",
    "from nltk import word_tokenize\n",
    "\n",
    "import nltk\n",
    "nltk.download('stopwords')\n",
    "nltk.download('punkt')\n",
    "\n",
    "from Sastrawi.Stemmer.StemmerFactory import StemmerFactory"
   ]
  },
  {
   "cell_type": "code",
   "execution_count": 6,
   "id": "dd295e52",
   "metadata": {},
   "outputs": [],
   "source": [
    "df = pd.read_csv('data.csv', encoding='latin-1') \n",
    "abusive = pd.read_csv('abusive.csv', encoding='latin-1') \n",
    "kamus =  pd.read_csv('new_kamusalay.csv', encoding='latin-1') \n",
    "sentiment = pd.read_csv(\"Clean_preprocess.tsv.txt\",sep='\\t')"
   ]
  },
  {
   "cell_type": "code",
   "execution_count": 7,
   "id": "62d9f348",
   "metadata": {},
   "outputs": [
    {
     "name": "stdout",
     "output_type": "stream",
     "text": [
      "                                                    Text    Respon\n",
      "0      warung ini dimiliki oleh pengusaha pabrik tahu...  positive\n",
      "1      mohon ulama lurus dan k212 mmbri hujjah partai...   neutral\n",
      "2      lokasi strategis di jalan sumatera bandung . t...  positive\n",
      "3      betapa bahagia nya diri ini saat unboxing pake...  positive\n",
      "4      duh . jadi mahasiswa jangan sombong dong . kas...  negative\n",
      "...                                                  ...       ...\n",
      "10995                                       tidak kecewa  positive\n",
      "10996  enak rasa masakan nya apalagi kepiting yang me...  positive\n",
      "10997        hormati partai-partai yang telah berkoalisi   neutral\n",
      "10998  pagi pagi di tol pasteur sudah macet parah , b...  negative\n",
      "10999  meskipun sering belanja ke yogya di riau junct...  positive\n",
      "\n",
      "[11000 rows x 2 columns]\n"
     ]
    }
   ],
   "source": [
    "print(sentiment)"
   ]
  },
  {
   "cell_type": "code",
   "execution_count": 8,
   "id": "db712682",
   "metadata": {},
   "outputs": [
    {
     "name": "stdout",
     "output_type": "stream",
     "text": [
      "                                                    Text    Respon\n",
      "0      warung ini dimiliki oleh pengusaha pabrik tahu...  positive\n",
      "1      mohon ulama lurus dan k212 mmbri hujjah partai...   neutral\n",
      "2      lokasi strategis di jalan sumatera bandung . t...  positive\n",
      "3      betapa bahagia nya diri ini saat unboxing pake...  positive\n",
      "4      duh . jadi mahasiswa jangan sombong dong . kas...  negative\n",
      "...                                                  ...       ...\n",
      "10995                                       tidak kecewa  positive\n",
      "10996  enak rasa masakan nya apalagi kepiting yang me...  positive\n",
      "10997        hormati partai-partai yang telah berkoalisi   neutral\n",
      "10998  pagi pagi di tol pasteur sudah macet parah , b...  negative\n",
      "10999  meskipun sering belanja ke yogya di riau junct...  positive\n",
      "\n",
      "[11000 rows x 2 columns]\n"
     ]
    }
   ],
   "source": [
    "sentiment.rename(columns = {0:'text', 1:'labels' }, inplace = True)\n",
    "print(sentiment)"
   ]
  },
  {
   "cell_type": "code",
   "execution_count": 9,
   "id": "fc4b0a03",
   "metadata": {},
   "outputs": [],
   "source": [
    "punctuations = re.sub(r\"[!<_>#:)\\.]\", \"\", string.punctuation)\n",
    "\n",
    "def punct2wspace(text):\n",
    "    return re.sub(r\"[{}]+\".format(punctuations), \" \", text)\n",
    "\n",
    "def normalize_wspace(text):\n",
    "    return re.sub(r\"\\s+\", \" \", text)\n",
    "\n",
    "def casefolding(text):\n",
    "    return text.lower()"
   ]
  },
  {
   "cell_type": "code",
   "execution_count": 10,
   "id": "3041b12c",
   "metadata": {},
   "outputs": [],
   "source": [
    "#clean stopwords\n",
    "stopword = set(stopwords.words('indonesian'))\n",
    "def clean_stopwords(text):\n",
    "    text = ' '.join(word for word in text.split() if word not in stopword) # hapus stopword dari kolom text\n",
    "    return text\n",
    "\n",
    "stopword_eng = set(stopwords.words('english'))\n",
    "def clean_stopwords_eng(text):\n",
    "    text = ' '.join(word for word in text.split() if word not in stopword_eng) # hapus stopword dari kolom text\n",
    "    return text"
   ]
  },
  {
   "cell_type": "code",
   "execution_count": 11,
   "id": "16a40da5",
   "metadata": {},
   "outputs": [],
   "source": [
    "def stemmingtokenization(text):\n",
    "    factory = StemmerFactory()\n",
    "    stemmer = factory.create_stemmer()\n",
    "    tokens = word_tokenize(text)\n",
    "    final = [stemmer.stem(tagged_word) for tagged_word in tokens]\n",
    "    return \" \".join(final)"
   ]
  },
  {
   "cell_type": "code",
   "execution_count": 12,
   "id": "746693ef",
   "metadata": {},
   "outputs": [],
   "source": [
    "def preprocess_text(text):\n",
    "    text = punct2wspace(text)\n",
    "    text = normalize_wspace(text)\n",
    "    text = casefolding(text)\n",
    "    text = stemmingtokenization(text)\n",
    "    text = clean_stopwords(text)\n",
    "    text = clean_stopwords_eng(text)\n",
    "    #text = final(text)\n",
    "    return text"
   ]
  },
  {
   "cell_type": "code",
   "execution_count": 13,
   "id": "954ad08b",
   "metadata": {},
   "outputs": [],
   "source": [
    "#import re\n",
    "#def cleansing(text):\n",
    " # text = text.lower()\n",
    "  #text = re.sub(r'[^a-zA-Z0-9]', ' ', text)\n",
    "  #return text"
   ]
  },
  {
   "cell_type": "code",
   "execution_count": 14,
   "id": "ac0bd474",
   "metadata": {},
   "outputs": [],
   "source": [
    "\n",
    "#make function to clean text and make a new \"clean_text\" column\n",
    "#import re\n",
    "#def cleansing(text):\n",
    "#  text = text.lower()\n",
    "#  text = re.sub(r'[^a-zA-Z0-9]', ' ', text)\n",
    "#  return text\n",
    "sentiment['clean_text'] = sentiment.Text.apply(preprocess_text)"
   ]
  },
  {
   "cell_type": "code",
   "execution_count": 15,
   "id": "b605c596",
   "metadata": {},
   "outputs": [
    {
     "data": {
      "text/html": [
       "<div>\n",
       "<style scoped>\n",
       "    .dataframe tbody tr th:only-of-type {\n",
       "        vertical-align: middle;\n",
       "    }\n",
       "\n",
       "    .dataframe tbody tr th {\n",
       "        vertical-align: top;\n",
       "    }\n",
       "\n",
       "    .dataframe thead th {\n",
       "        text-align: right;\n",
       "    }\n",
       "</style>\n",
       "<table border=\"1\" class=\"dataframe\">\n",
       "  <thead>\n",
       "    <tr style=\"text-align: right;\">\n",
       "      <th></th>\n",
       "      <th>Text</th>\n",
       "      <th>Respon</th>\n",
       "      <th>clean_text</th>\n",
       "    </tr>\n",
       "  </thead>\n",
       "  <tbody>\n",
       "    <tr>\n",
       "      <th>0</th>\n",
       "      <td>warung ini dimiliki oleh pengusaha pabrik tahu...</td>\n",
       "      <td>positive</td>\n",
       "      <td>warung milik usaha pabrik puluh kenal putih ba...</td>\n",
       "    </tr>\n",
       "    <tr>\n",
       "      <th>1</th>\n",
       "      <td>mohon ulama lurus dan k212 mmbri hujjah partai...</td>\n",
       "      <td>neutral</td>\n",
       "      <td>mohon ulama lurus k212 mmbri hujjah partai diw...</td>\n",
       "    </tr>\n",
       "    <tr>\n",
       "      <th>2</th>\n",
       "      <td>lokasi strategis di jalan sumatera bandung . t...</td>\n",
       "      <td>positive</td>\n",
       "      <td>lokasi strategis jalan sumatera bandung nya ny...</td>\n",
       "    </tr>\n",
       "    <tr>\n",
       "      <th>3</th>\n",
       "      <td>betapa bahagia nya diri ini saat unboxing pake...</td>\n",
       "      <td>positive</td>\n",
       "      <td>betapa bahagia nya unboxing paket barang nya b...</td>\n",
       "    </tr>\n",
       "    <tr>\n",
       "      <th>4</th>\n",
       "      <td>duh . jadi mahasiswa jangan sombong dong . kas...</td>\n",
       "      <td>negative</td>\n",
       "      <td>duh mahasiswa sombong kasih kartu kuning ajar ...</td>\n",
       "    </tr>\n",
       "  </tbody>\n",
       "</table>\n",
       "</div>"
      ],
      "text/plain": [
       "                                                Text    Respon  \\\n",
       "0  warung ini dimiliki oleh pengusaha pabrik tahu...  positive   \n",
       "1  mohon ulama lurus dan k212 mmbri hujjah partai...   neutral   \n",
       "2  lokasi strategis di jalan sumatera bandung . t...  positive   \n",
       "3  betapa bahagia nya diri ini saat unboxing pake...  positive   \n",
       "4  duh . jadi mahasiswa jangan sombong dong . kas...  negative   \n",
       "\n",
       "                                          clean_text  \n",
       "0  warung milik usaha pabrik puluh kenal putih ba...  \n",
       "1  mohon ulama lurus k212 mmbri hujjah partai diw...  \n",
       "2  lokasi strategis jalan sumatera bandung nya ny...  \n",
       "3  betapa bahagia nya unboxing paket barang nya b...  \n",
       "4  duh mahasiswa sombong kasih kartu kuning ajar ...  "
      ]
     },
     "execution_count": 15,
     "metadata": {},
     "output_type": "execute_result"
    }
   ],
   "source": [
    "sentiment.head(5)"
   ]
  },
  {
   "cell_type": "code",
   "execution_count": 16,
   "id": "c05a1cae",
   "metadata": {},
   "outputs": [],
   "source": [
    "g=[]"
   ]
  },
  {
   "cell_type": "code",
   "execution_count": 17,
   "id": "7c7a0cfa",
   "metadata": {},
   "outputs": [],
   "source": [
    "for i in sentiment['clean_text']:\n",
    "    g.append(i)"
   ]
  },
  {
   "cell_type": "code",
   "execution_count": 18,
   "id": "6bd2516d",
   "metadata": {},
   "outputs": [
    {
     "data": {
      "text/plain": [
       "11000"
      ]
     },
     "execution_count": 18,
     "metadata": {},
     "output_type": "execute_result"
    }
   ],
   "source": [
    "len(g)"
   ]
  },
  {
   "cell_type": "code",
   "execution_count": 19,
   "id": "a5082e03",
   "metadata": {},
   "outputs": [
    {
     "name": "stdout",
     "output_type": "stream",
     "text": [
      "Maximum sequence length in the list of sentences: 403\n"
     ]
    }
   ],
   "source": [
    "maxl = max([len(s) for s in g])\n",
    "print ('Maximum sequence length in the list of sentences:', maxl)"
   ]
  },
  {
   "cell_type": "code",
   "execution_count": 20,
   "id": "14d2368d",
   "metadata": {},
   "outputs": [
    {
     "name": "stdout",
     "output_type": "stream",
     "text": [
      "Found 12836 unique tokens.\n",
      "tokenizer.pickle has created!\n"
     ]
    }
   ],
   "source": [
    "#Tokenizing and save the preprocessing process to pickle file \n",
    "import pickle\n",
    "from tensorflow.keras.preprocessing.text import Tokenizer\n",
    "from tensorflow.keras.preprocessing.sequence import pad_sequences\n",
    "from collections import defaultdict\n",
    "\n",
    "max_features = 100000\n",
    "tokenizer = Tokenizer(num_words=max_features, split=' ', lower=True)\n",
    "token = tokenizer.fit_on_texts(sentiment['clean_text'].values)\n",
    "word_index = tokenizer.word_index\n",
    "print('Found %s unique tokens.' % len(word_index))\n",
    "with open('tokenizer.pickle', 'wb') as handle:\n",
    "    pickle.dump(tokenizer, handle, protocol=pickle.HIGHEST_PROTOCOL)\n",
    "    print(\"tokenizer.pickle has created!\")\n",
    "\n",
    "X = tokenizer.texts_to_sequences(sentiment['clean_text'])\n",
    "\n",
    "vocab_size = len(tokenizer.word_index)\n",
    "maxlen = max(len(x) for x in X)\n",
    "\n"
   ]
  },
  {
   "cell_type": "code",
   "execution_count": 21,
   "id": "d6a92b80",
   "metadata": {},
   "outputs": [
    {
     "name": "stdout",
     "output_type": "stream",
     "text": [
      "x_pad_sequencesv2.pickle has created!\n"
     ]
    }
   ],
   "source": [
    "X = pad_sequences(X)\n",
    "with open('sentiment.csv', 'wb') as handle:\n",
    "    pickle.dump(X, handle, protocol=pickle.HIGHEST_PROTOCOL)\n",
    "    print(\"x_pad_sequencesv2.pickle has created!\")"
   ]
  },
  {
   "cell_type": "code",
   "execution_count": 22,
   "id": "10bc317f",
   "metadata": {},
   "outputs": [
    {
     "name": "stdout",
     "output_type": "stream",
     "text": [
      "y_labels.pickle has created!\n"
     ]
    }
   ],
   "source": [
    "#Convert Data target labels(text) to number  \n",
    "Y = pd.get_dummies(sentiment['Respon'])\n",
    "Y = Y.values\n",
    "\n",
    "with open('y_labels.pickle', 'wb') as handle:\n",
    "    pickle.dump(Y, handle, protocol=pickle.HIGHEST_PROTOCOL)\n",
    "    print(\"y_labels.pickle has created!\")"
   ]
  },
  {
   "cell_type": "code",
   "execution_count": 23,
   "id": "abdd57ba",
   "metadata": {},
   "outputs": [],
   "source": [
    "#train and Split"
   ]
  },
  {
   "cell_type": "code",
   "execution_count": 24,
   "id": "b564028b",
   "metadata": {},
   "outputs": [
    {
     "name": "stdout",
     "output_type": "stream",
     "text": [
      "(9900, 78) (9900, 3)\n",
      "(1100, 78) (1100, 3)\n"
     ]
    }
   ],
   "source": [
    "from sklearn.model_selection import train_test_split\n",
    "\n",
    "X_train, X_test, y_train, y_test = train_test_split(X, Y,stratify=Y, test_size=0.1, random_state=42)\n",
    "\n",
    "print(X_train.shape,y_train.shape)\n",
    "print(X_test.shape,y_test.shape)"
   ]
  },
  {
   "cell_type": "code",
   "execution_count": 25,
   "id": "a31f42c8",
   "metadata": {},
   "outputs": [
    {
     "name": "stderr",
     "output_type": "stream",
     "text": [
      "WARNING:absl:`lr` is deprecated in Keras optimizer, please use `learning_rate` or use the legacy optimizer, e.g.,tf.keras.optimizers.legacy.Adam.\n"
     ]
    },
    {
     "name": "stdout",
     "output_type": "stream",
     "text": [
      "Epoch 1/50\n",
      "258/258 [==============================] - 45s 167ms/step - loss: 0.5589 - accuracy: 0.7755 - val_loss: 0.4181 - val_accuracy: 0.8324\n",
      "Epoch 2/50\n",
      "258/258 [==============================] - 41s 159ms/step - loss: 0.2637 - accuracy: 0.9062 - val_loss: 0.4160 - val_accuracy: 0.8349\n",
      "Epoch 3/50\n",
      "258/258 [==============================] - 41s 158ms/step - loss: 0.1644 - accuracy: 0.9425 - val_loss: 0.4675 - val_accuracy: 0.8342\n",
      "Epoch 4/50\n",
      "258/258 [==============================] - 43s 165ms/step - loss: 0.1119 - accuracy: 0.9593 - val_loss: 0.5079 - val_accuracy: 0.8309\n",
      "Epoch 5/50\n",
      "258/258 [==============================] - 41s 159ms/step - loss: 0.0800 - accuracy: 0.9696 - val_loss: 0.6413 - val_accuracy: 0.8276\n",
      "Epoch 5: early stopping\n",
      "35/35 [==============================] - 1s 21ms/step\n",
      "Training ke- 1\n",
      "              precision    recall  f1-score   support\n",
      "\n",
      "           0       0.93      0.96      0.94       343\n",
      "           1       0.94      0.94      0.94       115\n",
      "           2       0.98      0.96      0.97       642\n",
      "\n",
      "    accuracy                           0.96      1100\n",
      "   macro avg       0.95      0.95      0.95      1100\n",
      "weighted avg       0.96      0.96      0.96      1100\n",
      "\n",
      "======================================================\n"
     ]
    },
    {
     "name": "stderr",
     "output_type": "stream",
     "text": [
      "WARNING:absl:`lr` is deprecated in Keras optimizer, please use `learning_rate` or use the legacy optimizer, e.g.,tf.keras.optimizers.legacy.Adam.\n"
     ]
    },
    {
     "name": "stdout",
     "output_type": "stream",
     "text": [
      "Epoch 1/50\n",
      "258/258 [==============================] - 44s 158ms/step - loss: 0.5787 - accuracy: 0.7672 - val_loss: 0.4331 - val_accuracy: 0.8316\n",
      "Epoch 2/50\n",
      "258/258 [==============================] - 42s 163ms/step - loss: 0.2765 - accuracy: 0.8985 - val_loss: 0.3979 - val_accuracy: 0.8462\n",
      "Epoch 3/50\n",
      "258/258 [==============================] - 42s 163ms/step - loss: 0.1656 - accuracy: 0.9423 - val_loss: 0.4578 - val_accuracy: 0.8320\n",
      "Epoch 4/50\n",
      "258/258 [==============================] - 42s 162ms/step - loss: 0.1074 - accuracy: 0.9602 - val_loss: 0.5608 - val_accuracy: 0.8331\n",
      "Epoch 5/50\n",
      "258/258 [==============================] - 45s 175ms/step - loss: 0.0785 - accuracy: 0.9710 - val_loss: 0.6012 - val_accuracy: 0.8287\n",
      "Epoch 5: early stopping\n",
      "35/35 [==============================] - 1s 19ms/step\n",
      "Training ke- 2\n",
      "              precision    recall  f1-score   support\n",
      "\n",
      "           0       0.92      0.94      0.93       343\n",
      "           1       0.96      0.90      0.93       115\n",
      "           2       0.96      0.96      0.96       642\n",
      "\n",
      "    accuracy                           0.95      1100\n",
      "   macro avg       0.95      0.93      0.94      1100\n",
      "weighted avg       0.95      0.95      0.95      1100\n",
      "\n",
      "======================================================\n"
     ]
    },
    {
     "name": "stderr",
     "output_type": "stream",
     "text": [
      "WARNING:absl:`lr` is deprecated in Keras optimizer, please use `learning_rate` or use the legacy optimizer, e.g.,tf.keras.optimizers.legacy.Adam.\n"
     ]
    },
    {
     "name": "stdout",
     "output_type": "stream",
     "text": [
      "Epoch 1/50\n",
      "258/258 [==============================] - 49s 179ms/step - loss: 0.5678 - accuracy: 0.7636 - val_loss: 0.4010 - val_accuracy: 0.8436\n",
      "Epoch 2/50\n",
      "258/258 [==============================] - 45s 176ms/step - loss: 0.2709 - accuracy: 0.9017 - val_loss: 0.4049 - val_accuracy: 0.8520\n",
      "Epoch 3/50\n",
      "258/258 [==============================] - 45s 175ms/step - loss: 0.1635 - accuracy: 0.9421 - val_loss: 0.4311 - val_accuracy: 0.8415\n",
      "Epoch 4/50\n",
      "258/258 [==============================] - 46s 177ms/step - loss: 0.1109 - accuracy: 0.9583 - val_loss: 0.5520 - val_accuracy: 0.8313\n",
      "Epoch 4: early stopping\n",
      "35/35 [==============================] - 1s 23ms/step\n",
      "Training ke- 3\n",
      "              precision    recall  f1-score   support\n",
      "\n",
      "           0       0.94      0.88      0.91       343\n",
      "           1       0.97      0.87      0.92       115\n",
      "           2       0.94      0.98      0.96       642\n",
      "\n",
      "    accuracy                           0.94      1100\n",
      "   macro avg       0.95      0.91      0.93      1100\n",
      "weighted avg       0.94      0.94      0.94      1100\n",
      "\n",
      "======================================================\n"
     ]
    },
    {
     "name": "stderr",
     "output_type": "stream",
     "text": [
      "WARNING:absl:`lr` is deprecated in Keras optimizer, please use `learning_rate` or use the legacy optimizer, e.g.,tf.keras.optimizers.legacy.Adam.\n"
     ]
    },
    {
     "name": "stdout",
     "output_type": "stream",
     "text": [
      "Epoch 1/50\n",
      "258/258 [==============================] - 50s 181ms/step - loss: 0.5676 - accuracy: 0.7646 - val_loss: 0.3774 - val_accuracy: 0.8553\n",
      "Epoch 2/50\n",
      "258/258 [==============================] - 45s 174ms/step - loss: 0.2812 - accuracy: 0.8947 - val_loss: 0.3691 - val_accuracy: 0.8607\n",
      "Epoch 3/50\n",
      "258/258 [==============================] - 45s 175ms/step - loss: 0.1670 - accuracy: 0.9372 - val_loss: 0.4176 - val_accuracy: 0.8571\n",
      "Epoch 4/50\n",
      "258/258 [==============================] - 46s 180ms/step - loss: 0.1221 - accuracy: 0.9542 - val_loss: 0.4702 - val_accuracy: 0.8280\n",
      "Epoch 5/50\n",
      "258/258 [==============================] - 46s 178ms/step - loss: 0.0902 - accuracy: 0.9655 - val_loss: 0.5582 - val_accuracy: 0.8302\n",
      "Epoch 5: early stopping\n",
      "35/35 [==============================] - 1s 23ms/step\n",
      "Training ke- 4\n",
      "              precision    recall  f1-score   support\n",
      "\n",
      "           0       0.91      0.92      0.91       343\n",
      "           1       0.89      0.90      0.90       115\n",
      "           2       0.97      0.95      0.96       642\n",
      "\n",
      "    accuracy                           0.94      1100\n",
      "   macro avg       0.92      0.93      0.92      1100\n",
      "weighted avg       0.94      0.94      0.94      1100\n",
      "\n",
      "======================================================\n"
     ]
    }
   ],
   "source": [
    "#Cross validate and train the data \n",
    "#For this one i use KFold\n",
    "import numpy as np\n",
    "from sklearn.metrics import classification_report\n",
    "from sklearn.metrics import accuracy_score\n",
    "from sklearn.model_selection import KFold\n",
    "from tensorflow.keras.layers import Flatten\n",
    "from tensorflow.keras import optimizers\n",
    "\n",
    "kf = KFold(n_splits=4,random_state=42,shuffle=True) \n",
    "\n",
    "accuracies = []\n",
    "\n",
    "y = Y\n",
    "\n",
    "embed_dim = 100\n",
    "units = 100\n",
    "\n",
    "for iteration, data in enumerate(kf.split(X), start=1):\n",
    "\n",
    "    #Splitting the data\n",
    "    data_train   = X[data[0]]\n",
    "    target_train = y[data[0]]\n",
    "\n",
    "    data_test    = X[data[1]]\n",
    "    target_test  = y[data[1]]\n",
    "    #Making deep learning model sequwential\n",
    "    model = Sequential()\n",
    "    model.add(Embedding(max_features, embed_dim, input_length=X.shape[1]))\n",
    "    model.add(LSTM(units))\n",
    "    model.add(Dropout(0.2))\n",
    "    model.add(Flatten())\n",
    "    model.add(Dense(3,activation='softmax'))\n",
    "\n",
    "    adam = optimizers.Adam(lr = 0.0001)\n",
    "    # Tentukan loss, optimizer dan metrik yang akan digunakan\n",
    "    model.compile(loss = 'categorical_crossentropy', optimizer = adam, metrics = ['accuracy'])\n",
    "    #Earlystop\n",
    "    es = EarlyStopping(monitor='val_loss', mode='min', verbose=1, patience=3)\n",
    "    #Training the model \n",
    "    history = model.fit(data_train, target_train, epochs=50, batch_size=32, validation_data=(data_test, target_test), verbose=1,shuffle=True, callbacks=[es])\n",
    "    #Predict the model \n",
    "    predictions = model.predict(X_test)\n",
    "    y_pred = predictions\n",
    "\n",
    "    accuracy = accuracy_score(y_test.argmax(axis=1), y_pred.argmax(axis=1))\n",
    "\n",
    "    print(\"Training ke-\", iteration)\n",
    "    print(classification_report(y_test.argmax(axis=1), y_pred.argmax(axis=1)))\n",
    "    print(\"======================================================\")"
   ]
  },
  {
   "cell_type": "code",
   "execution_count": 26,
   "id": "c1f00618",
   "metadata": {},
   "outputs": [
    {
     "name": "stdout",
     "output_type": "stream",
     "text": [
      "You must install pydot (`pip install pydot`) and install graphviz (see instructions at https://graphviz.gitlab.io/download/) for plot_model to work.\n"
     ]
    }
   ],
   "source": [
    "import keras\n",
    "\n",
    "# Melihat Diagram Model\n",
    "keras.utils.vis_utils.plot_model(model, \"model.png\")"
   ]
  },
  {
   "cell_type": "code",
   "execution_count": 27,
   "id": "8095bd96",
   "metadata": {},
   "outputs": [
    {
     "name": "stdout",
     "output_type": "stream",
     "text": [
      "Requirement already satisfied: pydot in c:\\users\\asus\\anaconda3\\lib\\site-packages (1.4.2)\n",
      "Requirement already satisfied: pyparsing>=2.1.4 in c:\\users\\asus\\anaconda3\\lib\\site-packages (from pydot) (3.0.9)\n",
      "Note: you may need to restart the kernel to use updated packages.\n"
     ]
    }
   ],
   "source": [
    "pip install pydot"
   ]
  },
  {
   "cell_type": "code",
   "execution_count": 28,
   "id": "f6e62b6d",
   "metadata": {},
   "outputs": [
    {
     "data": {
      "image/png": "[encoded data removed]",
      "text/plain": [
       "<Figure size 2000x500 with 2 Axes>"
      ]
     },
     "metadata": {},
     "output_type": "display_data"
    }
   ],
   "source": [
    "# Visualize the data \n",
    "# history.history to see the history of the deep learning model like accuracy and lose \n",
    "import matplotlib.pyplot as plt\n",
    "plt.style.use('ggplot')\n",
    "\n",
    "def plot_history(history):\n",
    "    acc = history.history['accuracy']\n",
    "    val_acc = history.history['val_accuracy']\n",
    "    loss = history.history['loss']\n",
    "    val_loss = history.history['val_loss']\n",
    "    x = range(1, len(acc) + 1)\n",
    "\n",
    "    plt.figure(figsize=(20, 5))\n",
    "    plt.subplot(1, 2, 1)\n",
    "    plt.plot(x, acc, 'b', label='Training acc')\n",
    "    plt.plot(x, val_acc, 'r', label='Validation acc')\n",
    "    plt.title('Training and validation accuracy')\n",
    "    plt.legend()\n",
    "    plt.subplot(1, 2, 2)\n",
    "    plt.plot(x, loss, 'b', label='Training loss')\n",
    "    plt.plot(x, val_loss, 'r', label='Validation loss')\n",
    "    plt.title('Training and validation loss')\n",
    "    plt.legend()\n",
    "\n",
    "%matplotlib inline\n",
    "plot_history(history)"
   ]
  },
  {
   "cell_type": "code",
   "execution_count": 29,
   "id": "53b4bf4f",
   "metadata": {},
   "outputs": [
    {
     "name": "stdout",
     "output_type": "stream",
     "text": [
      "Model has created!\n"
     ]
    }
   ],
   "source": [
    "#save the model\n",
    "model.save('mymodel.h5')\n",
    "print(\"Model has created!\")"
   ]
  },
  {
   "cell_type": "code",
   "execution_count": 30,
   "id": "a1060cca",
   "metadata": {},
   "outputs": [
    {
     "name": "stdout",
     "output_type": "stream",
     "text": [
      "35/35 [==============================] - 1s 19ms/step - loss: 0.1859 - accuracy: 0.9400\n",
      "Test accuracy:  93.99999976158142 %\n"
     ]
    }
   ],
   "source": [
    "# model evaluation\n",
    "from keras.models import load_model\n",
    "\n",
    "model = load_model('mymodel.h5')\n",
    "scores = model.evaluate(X_test, y_test)\n",
    "\n",
    "LSTM_accuracy = scores[1]*100\n",
    "\n",
    "print('Test accuracy: ', scores[1]*100, '%')"
   ]
  },
  {
   "cell_type": "code",
   "execution_count": 31,
   "id": "e99b8f26",
   "metadata": {},
   "outputs": [
    {
     "name": "stdout",
     "output_type": "stream",
     "text": [
      "1/1 [==============================] - 0s 394ms/step\n",
      "Text: presiden indonesia keren sekali\n",
      "Sentiment: positive\n"
     ]
    }
   ],
   "source": [
    "#A function for predict the sentiment\n",
    "import re \n",
    "from keras.models import load_model\n",
    "from tensorflow.keras.preprocessing.sequence import pad_sequences\n",
    "import numpy as np\n",
    "\n",
    "input_text = \"\"\"makanan di sini tidak enak\"\"\"\n",
    "input_text2 = \"\"\"makanan di sini gak enak\"\"\"\n",
    "input_text3 = \"\"\"makanan di sini engga enak\"\"\"\n",
    "input_text4 = \"\"\"makanan di sini kurang enak\"\"\"\n",
    "input_text5 = \"\"\"presiden indonesia keren sekali\"\"\"\n",
    "input_text6 = \"\"\"presiden indonesia pergi ke timur tengah\"\"\"\n",
    "\n",
    "def cleansing(sent):\n",
    "    # Mengubah kata menjadi huruf kecil semua dengan menggunakan fungsi lower()\n",
    "    string = sent.lower()\n",
    "    # Menghapus emoticon dan tanda baca menggunakan \"RegEx\" dengan script di bawah\n",
    "    string = re.sub(r'[^a-zA-Z0-9]', ' ', string)\n",
    "    return string\n",
    "\n",
    "sentiment = ['negative', 'neutral', 'positive']\n",
    "\n",
    "text = [cleansing(input_text5)]\n",
    "predicted = tokenizer.texts_to_sequences(text)\n",
    "guess = pad_sequences(predicted, maxlen=X.shape[1])\n",
    "\n",
    "model = load_model('mymodel.h5')\n",
    "prediction = model.predict(guess)\n",
    "polarity = np.argmax(prediction[0])\n",
    "hasil = sentiment[polarity]\n",
    "\n",
    "print(\"Text: %s\" % text[0])\n",
    "print(\"Sentiment: %s\" % sentiment[polarity])"
   ]
  }
 ],
 "metadata": {
  "kernelspec": {
   "display_name": "Python 3 (ipykernel)",
   "language": "python",
   "name": "python3"
  },
  "language_info": {
   "codemirror_mode": {
    "name": "ipython",
    "version": 3
   },
   "file_extension": ".py",
   "mimetype": "text/x-python",
   "name": "python",
   "nbconvert_exporter": "python",
   "pygments_lexer": "ipython3",
   "version": "3.9.13"
  }
 },
 "nbformat": 4,
 "nbformat_minor": 5
}
